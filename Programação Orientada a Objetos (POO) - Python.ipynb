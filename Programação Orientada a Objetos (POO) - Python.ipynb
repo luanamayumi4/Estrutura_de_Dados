{
 "cells": [
  {
   "cell_type": "markdown",
   "id": "b723fcb6",
   "metadata": {},
   "source": [
    "Dicionário = {\"armazena valores\"} "
   ]
  },
  {
   "cell_type": "markdown",
   "id": "4cd801a4",
   "metadata": {},
   "source": [
    "Função: número maior de valores --> Paradigma Procedural: Função > Recebe parâmetro > Devolve resultado"
   ]
  },
  {
   "cell_type": "code",
   "execution_count": 10,
   "id": "8281a1b9",
   "metadata": {},
   "outputs": [],
   "source": [
    "def cria_conta(numero, titular, saldo, limite): #(): função é executada e retorna o resultado ao que pode ser chamado - parametro\n",
    "   conta = {\"numero\": numero, \"titular\": titular, \"saldo\": saldo, \"limite\": limite}\n",
    "   return conta"
   ]
  },
  {
   "cell_type": "code",
   "execution_count": 13,
   "id": "37b181fb",
   "metadata": {},
   "outputs": [
    {
     "data": {
      "text/plain": [
       "123"
      ]
     },
     "execution_count": 13,
     "metadata": {},
     "output_type": "execute_result"
    }
   ],
   "source": [
    "conta = cria_conta(123, \"Nico\", 55.0, 1000.0) \n",
    "conta[\"numero\"] #acessando através da chave"
   ]
  },
  {
   "cell_type": "code",
   "execution_count": 14,
   "id": "5671c110",
   "metadata": {},
   "outputs": [],
   "source": [
    "def deposita(conta, valor): \n",
    "    conta [\"saldo\"] = conta [\"saldo\"] + valor #ou: conta [\"saldo\"] += valor"
   ]
  },
  {
   "cell_type": "code",
   "execution_count": 15,
   "id": "63823a50",
   "metadata": {},
   "outputs": [],
   "source": [
    "def saca(conta, valor): \n",
    "    conta [\"saldo\"] -= valor"
   ]
  },
  {
   "cell_type": "code",
   "execution_count": 16,
   "id": "d41f9f19",
   "metadata": {},
   "outputs": [],
   "source": [
    "def extrato(conta):\n",
    "    print(\"Saldo é {}\".format(conta[\"saldo\"]))"
   ]
  },
  {
   "cell_type": "code",
   "execution_count": 17,
   "id": "06b229c2",
   "metadata": {},
   "outputs": [
    {
     "data": {
      "text/plain": [
       "55.0"
      ]
     },
     "execution_count": 17,
     "metadata": {},
     "output_type": "execute_result"
    }
   ],
   "source": [
    "#testando pra ver meu saldo\n",
    "conta[\"saldo\"] #acessando através da chave"
   ]
  },
  {
   "cell_type": "code",
   "execution_count": 18,
   "id": "45aaba56",
   "metadata": {},
   "outputs": [],
   "source": [
    "#depositando dinheiro na conta\n",
    "conta = cria_conta(123, \"Nico\", 55.0, 1000.0) \n",
    "deposita (conta, 15.0)"
   ]
  },
  {
   "cell_type": "code",
   "execution_count": 20,
   "id": "8b90c4f3",
   "metadata": {},
   "outputs": [
    {
     "name": "stdout",
     "output_type": "stream",
     "text": [
      "Saldo é R$70.0\n"
     ]
    }
   ],
   "source": [
    "#verificando meu extrato\n",
    "extrato (conta)"
   ]
  },
  {
   "cell_type": "code",
   "execution_count": 21,
   "id": "6c0b08c7",
   "metadata": {},
   "outputs": [],
   "source": [
    "#sacando\n",
    "saca (conta, 20.0)"
   ]
  },
  {
   "cell_type": "code",
   "execution_count": 22,
   "id": "e936705f",
   "metadata": {},
   "outputs": [
    {
     "data": {
      "text/plain": [
       "50.0"
      ]
     },
     "execution_count": 22,
     "metadata": {},
     "output_type": "execute_result"
    }
   ],
   "source": [
    "#testando para ver meu saldo\n",
    "conta [\"saldo\"]"
   ]
  },
  {
   "cell_type": "markdown",
   "id": "6137c1c6",
   "metadata": {},
   "source": [
    "Tudo o que fizemos foi baseado no Paradigma Procedural. A ideia do POO é justamente juntar os dados pertencentes e deixá-los juntos. NÃO podemos programar POO (fazer essas combinações) no mundo procedural (imaginem só, por exemplo, + de 1000 funcões!!!)"
   ]
  }
 ],
 "metadata": {
  "kernelspec": {
   "display_name": "Python 3 (ipykernel)",
   "language": "python",
   "name": "python3"
  },
  "language_info": {
   "codemirror_mode": {
    "name": "ipython",
    "version": 3
   },
   "file_extension": ".py",
   "mimetype": "text/x-python",
   "name": "python",
   "nbconvert_exporter": "python",
   "pygments_lexer": "ipython3",
   "version": "3.9.12"
  }
 },
 "nbformat": 4,
 "nbformat_minor": 5
}
