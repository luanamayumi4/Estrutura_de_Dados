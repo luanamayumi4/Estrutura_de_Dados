{
 "cells": [
  {
   "cell_type": "code",
   "execution_count": 16,
   "id": "9d8111ad",
   "metadata": {},
   "outputs": [
    {
     "ename": "SyntaxError",
     "evalue": "invalid syntax (3097641560.py, line 6)",
     "output_type": "error",
     "traceback": [
      "\u001b[1;36m  Input \u001b[1;32mIn [16]\u001b[1;36m\u001b[0m\n\u001b[1;33m    lista_1 = []\u001b[0m\n\u001b[1;37m    ^\u001b[0m\n\u001b[1;31mSyntaxError\u001b[0m\u001b[1;31m:\u001b[0m invalid syntax\n"
     ]
    }
   ],
   "source": [
    "#1. Faça um programa que leia duas listas de inteiros com entrada\n",
    "#do usuário e que gere uma terceira com os elementos das duas primeiras\n",
    "\n",
    "tamanho = int(input(\"Qual o tamanho? \")\n",
    "\n",
    "lista_1 = []\n",
    "              \n",
    "for i in range(tamanho):\n",
    "    numero = int(input(\"Digite números para a lista 1: \"))\n",
    "    lista_1.append(numero)\n",
    "    \n",
    "lista_2 = []\n",
    "              \n",
    "for i in range(tamanho):\n",
    "    numero = int(input(\"Digite números para a lista 2: \"))\n",
    "    lista_2.append(numero)\n",
    "    \n",
    "lista_3 = []\n",
    "              \n",
    "for i in range(tamanho):\n",
    "    numero = int(input(\"Digite números para a lista 3: \"))\n",
    "    lista_3.append(numero)\n",
    "    \n",
    "lista_3 = lista_1 + lista_2\n",
    "print(lista_3)\n",
    "              \n",
    "#para o outro\n",
    "lista_3 = list(set(lista_1+lista_2))\n",
    "print(lista_3)"
   ]
  },
  {
   "cell_type": "code",
   "execution_count": null,
   "id": "bb8f1181",
   "metadata": {},
   "outputs": [],
   "source": [
    "#2. Faça um programa que percorra duas listas de inteiros com\n",
    "#entrada do usuário e que e gere uma terceira sem elementos \n",
    "#repetidos\n",
    "\n",
    "lista1 = []\n",
    "lista2 = []\n",
    "lista3 = []\n",
    "\n",
    "\n",
    "# adicionando os valores de uma lista em uma terceira lista\n",
    "for i in range(2):\n",
    "    valores_lista1 = int(input(\"Digite um número: \"))\n",
    "    lista1.append(valores_lista1)\n",
    "# print(lista1)\n",
    "\n",
    "for i in range(2):\n",
    "    valores_lista2 = int(input(\"Digite outros valores: \"))\n",
    "    lista2.append(valores_lista2)\n",
    "# print(lista2)\n",
    "\n",
    "\n",
    "for _ in lista1:\n",
    "    \n",
    "    if ((lista1[0] != lista2[0]) or (lista1[1] != lista2[1])):\n",
    "        lista3.append(lista1[0])\n",
    "        lista3.append(lista1[1])\n",
    "        lista3.append(lista2[0])\n",
    "        lista3.append(lista2[1])\n",
    "    elif (((lista1[0] and lista2[0]) == lista1[0]) or (lista1[1] and lista2[1]) == lista1[1]):\n",
    "        lista3.append(lista1[0])\n",
    "        lista3.append(lista2[1])\n",
    "    else:\n",
    "        break\n",
    "        # lista3.append(lista2[1])\n",
    "        \n",
    "\n",
    "print(set(lista3))"
   ]
  },
  {
   "cell_type": "code",
   "execution_count": null,
   "id": "f749e74c",
   "metadata": {},
   "outputs": [],
   "source": [
    "#3. Faça um programa que imprima o menor elemento da lista contendo n elementos do tipo inteiro\n",
    "#com \"for\"."
   ]
  },
  {
   "cell_type": "code",
   "execution_count": 4,
   "id": "e6641a93",
   "metadata": {},
   "outputs": [
    {
     "name": "stdout",
     "output_type": "stream",
     "text": [
      "-10\n"
     ]
    }
   ],
   "source": [
    "#4. A lista de temperaturas de Mons, na Bélgica, foi \n",
    "#armazenada na lista T = [ -10, -8, 0, 1, 2, 5, -2, -4]. \n",
    "#Faça um programa que imprima a menor e a maior temperatura,\n",
    "#assim como a temperatura média.\n",
    "\n",
    "T = [-10, -8, 0, 1, 2, 5, -2, -4]\n",
    "menor_valor = []\n",
    "\n",
    "for i in T:\n",
    "    if i < 0: # só analisa os números menores que zero\n",
    "        menor_valor.append(i) # adicionando o menor valor do indice\n",
    "        min(menor_valor)\n",
    "        \n",
    "print(menor_valor[0])\n",
    "\n",
    "#mons = [lista]\n",
    "#print(min(mons))\n",
    "#print(max(mons))\n",
    "#print(sum(mons) / len (mons))\n"
   ]
  },
  {
   "cell_type": "code",
   "execution_count": null,
   "id": "ee9bb9f9",
   "metadata": {},
   "outputs": [],
   "source": [
    "#Lista 2 - Pilhas"
   ]
  },
  {
   "cell_type": "code",
   "execution_count": 9,
   "id": "aa9bef28",
   "metadata": {},
   "outputs": [
    {
     "data": {
      "text/plain": [
       "'otag od ahlip a'"
      ]
     },
     "execution_count": 9,
     "metadata": {},
     "output_type": "execute_result"
    }
   ],
   "source": [
    "#1. Escreva um programa para ler uma frase e imprimi-la com as \n",
    "#letras das palavras invertidas. Exemplo: a frase “a pilha do gato” deve sair “a ahlip od\n",
    "#otag”\n",
    "\n",
    "nome = 'a pilha do gato'\n",
    "nome[::-1]"
   ]
  },
  {
   "cell_type": "code",
   "execution_count": null,
   "id": "5934497e",
   "metadata": {},
   "outputs": [],
   "source": [
    "#2. Escreva um programa que usa Pilha para verificar se uma dada cadeia de\n",
    "#caracteres é ou não palíndroma. Por exemplo: “subinoonibus” é palíndroma."
   ]
  },
  {
   "cell_type": "code",
   "execution_count": null,
   "id": "e084d107",
   "metadata": {},
   "outputs": [],
   "source": [
    "#3. Mostre a situação da Pilha P, inicialmente vazia, após a execução de cada \n",
    "# uma das operações a seguir:\n",
    "\n",
    "p.push(“a”)\n",
    "p.push(“b”)\n",
    "p.push(“c”)\n",
    "p.push(p.peek())\n",
    "p.push(“d”)\n",
    "p.pop()\n",
    "p.pop()"
   ]
  }
 ],
 "metadata": {
  "kernelspec": {
   "display_name": "Python 3 (ipykernel)",
   "language": "python",
   "name": "python3"
  },
  "language_info": {
   "codemirror_mode": {
    "name": "ipython",
    "version": 3
   },
   "file_extension": ".py",
   "mimetype": "text/x-python",
   "name": "python",
   "nbconvert_exporter": "python",
   "pygments_lexer": "ipython3",
   "version": "3.9.12"
  }
 },
 "nbformat": 4,
 "nbformat_minor": 5
}
