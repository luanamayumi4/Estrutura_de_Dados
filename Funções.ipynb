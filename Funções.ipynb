{
 "cells": [
  {
   "cell_type": "markdown",
   "id": "66c348b5",
   "metadata": {},
   "source": [
    "Dicionário = {\"armazena valores\"} "
   ]
  },
  {
   "cell_type": "markdown",
   "id": "347eea2d",
   "metadata": {},
   "source": [
    "Função: número maior de valores --> Paradigma Procedural: Função > Recebe parâmetro > Devolve resultado"
   ]
  },
  {
   "cell_type": "code",
   "execution_count": 10,
   "id": "5aa224e3",
   "metadata": {},
   "outputs": [],
   "source": [
    "def cria_conta(numero, titular, saldo, limite): #parênteses: função é executada e retorna o resultado ao que pode ser chamado - parâmetro\n",
    "   conta = {\"numero\": numero, \"titular\": titular, \"saldo\": saldo, \"limite\": limite} #dicionário com os argumentos da função\n",
    "   return conta  #retornando a função"
   ]
  },
  {
   "cell_type": "code",
   "execution_count": 13,
   "id": "3bb7d565",
   "metadata": {},
   "outputs": [
    {
     "data": {
      "text/plain": [
       "123"
      ]
     },
     "execution_count": 13,
     "metadata": {},
     "output_type": "execute_result"
    }
   ],
   "source": [
    "conta = cria_conta(123, \"Nico\", 55.0, 1000.0) \n",
    "conta[\"numero\"] #acessando através da chave"
   ]
  },
  {
   "cell_type": "code",
   "execution_count": 14,
   "id": "aea393b6",
   "metadata": {},
   "outputs": [],
   "source": [
    "def deposita(conta, valor): \n",
    "    conta [\"saldo\"] = conta [\"saldo\"] + valor #ou: conta [\"saldo\"] += valor"
   ]
  },
  {
   "cell_type": "code",
   "execution_count": 15,
   "id": "4f8a2962",
   "metadata": {},
   "outputs": [],
   "source": [
    "def saca(conta, valor): \n",
    "    conta [\"saldo\"] -= valor"
   ]
  },
  {
   "cell_type": "code",
   "execution_count": 16,
   "id": "d9f3218b",
   "metadata": {},
   "outputs": [],
   "source": [
    "def extrato(conta):\n",
    "    print(\"Saldo é {}\".format(conta[\"saldo\"]))"
   ]
  },
  {
   "cell_type": "code",
   "execution_count": 17,
   "id": "21a378ff",
   "metadata": {},
   "outputs": [
    {
     "data": {
      "text/plain": [
       "55.0"
      ]
     },
     "execution_count": 17,
     "metadata": {},
     "output_type": "execute_result"
    }
   ],
   "source": [
    "#testando pra ver meu saldo\n",
    "conta[\"saldo\"] #acessando através da chave"
   ]
  },
  {
   "cell_type": "code",
   "execution_count": 18,
   "id": "fe60f44b",
   "metadata": {},
   "outputs": [],
   "source": [
    "#depositando dinheiro na conta\n",
    "conta = cria_conta(123, \"Nico\", 55.0, 1000.0) \n",
    "deposita (conta, 15.0)"
   ]
  },
  {
   "cell_type": "code",
   "execution_count": 20,
   "id": "37d27f7a",
   "metadata": {},
   "outputs": [
    {
     "name": "stdout",
     "output_type": "stream",
     "text": [
      "Saldo é 70.0\n"
     ]
    }
   ],
   "source": [
    "#verificando meu extrato\n",
    "extrato (conta)"
   ]
  },
  {
   "cell_type": "code",
   "execution_count": 21,
   "id": "39743232",
   "metadata": {},
   "outputs": [],
   "source": [
    "#sacando\n",
    "saca (conta, 20.0)"
   ]
  },
  {
   "cell_type": "code",
   "execution_count": 22,
   "id": "ae1be494",
   "metadata": {},
   "outputs": [
    {
     "data": {
      "text/plain": [
       "50.0"
      ]
     },
     "execution_count": 22,
     "metadata": {},
     "output_type": "execute_result"
    }
   ],
   "source": [
    "#testando para ver meu saldo\n",
    "conta [\"saldo\"]"
   ]
  },
  {
   "cell_type": "markdown",
   "id": "3f92d184",
   "metadata": {},
   "source": [
    "Tudo o que fizemos foi baseado no Paradigma Procedural. A ideia do POO é justamente juntar os dados pertencentes e deixá-los juntos. NÃO podemos programar POO (fazer essas combinações) no mundo procedural (imaginem só, por exemplo, + de 1000 funcões!!!)"
   ]
  },
  {
   "cell_type": "code",
   "execution_count": 23,
   "id": "8dd1a843",
   "metadata": {},
   "outputs": [],
   "source": [
    "#criando uma segunda conta\n",
    "conta2 = {\"numero\": 321, \"saldo\": 200.0}"
   ]
  },
  {
   "cell_type": "code",
   "execution_count": 25,
   "id": "e06470e9",
   "metadata": {},
   "outputs": [],
   "source": [
    "#adicionando um valor\n",
    "deposita (conta2, 50.0)"
   ]
  },
  {
   "cell_type": "code",
   "execution_count": 26,
   "id": "5b3e7ea6",
   "metadata": {},
   "outputs": [
    {
     "name": "stdout",
     "output_type": "stream",
     "text": [
      "Saldo é 250.0\n"
     ]
    }
   ],
   "source": [
    "#testando o saldo da conta2\n",
    "extrato (conta2)"
   ]
  },
  {
   "cell_type": "code",
   "execution_count": 27,
   "id": "d638a584",
   "metadata": {},
   "outputs": [],
   "source": [
    "#criando uma conta3, porém sem saldo\n",
    "conta3 = {\"numero\": 321, \"limite\": 200.0}"
   ]
  },
  {
   "cell_type": "code",
   "execution_count": 28,
   "id": "2d4c6788",
   "metadata": {},
   "outputs": [
    {
     "ename": "KeyError",
     "evalue": "'saldo'",
     "output_type": "error",
     "traceback": [
      "\u001b[1;31m---------------------------------------------------------------------------\u001b[0m",
      "\u001b[1;31mKeyError\u001b[0m                                  Traceback (most recent call last)",
      "Input \u001b[1;32mIn [28]\u001b[0m, in \u001b[0;36m<cell line: 2>\u001b[1;34m()\u001b[0m\n\u001b[0;32m      1\u001b[0m \u001b[38;5;66;03m#se eu tento ver o extrato dela...\u001b[39;00m\n\u001b[1;32m----> 2\u001b[0m \u001b[43mextrato\u001b[49m\u001b[43m \u001b[49m\u001b[43m(\u001b[49m\u001b[43mconta3\u001b[49m\u001b[43m)\u001b[49m\n",
      "Input \u001b[1;32mIn [16]\u001b[0m, in \u001b[0;36mextrato\u001b[1;34m(conta)\u001b[0m\n\u001b[0;32m      1\u001b[0m \u001b[38;5;28;01mdef\u001b[39;00m \u001b[38;5;21mextrato\u001b[39m(conta):\n\u001b[1;32m----> 2\u001b[0m     \u001b[38;5;28mprint\u001b[39m(\u001b[38;5;124m\"\u001b[39m\u001b[38;5;124mSaldo é \u001b[39m\u001b[38;5;132;01m{}\u001b[39;00m\u001b[38;5;124m\"\u001b[39m\u001b[38;5;241m.\u001b[39mformat(\u001b[43mconta\u001b[49m\u001b[43m[\u001b[49m\u001b[38;5;124;43m\"\u001b[39;49m\u001b[38;5;124;43msaldo\u001b[39;49m\u001b[38;5;124;43m\"\u001b[39;49m\u001b[43m]\u001b[49m))\n",
      "\u001b[1;31mKeyError\u001b[0m: 'saldo'"
     ]
    }
   ],
   "source": [
    "#se eu tento ver o extrato dela...\n",
    "extrato (conta3)"
   ]
  },
  {
   "cell_type": "markdown",
   "id": "a439ddbb",
   "metadata": {},
   "source": [
    "Ou seja, é possível criar uma conta sem aquela organização inicial, mas daria erro (ligação entre as funções é frágil no mundo postural)\n",
    "\n",
    "O que vimos até aqui:\n",
    "- Dado e funcionalidade (comportamentos) andam juntos --> o que auxilia na manutenção e legibilidade do código.\n",
    "Ex.: se Conta e o método deposita estivessem juntos, ai sim teríamos aplicado OO."
   ]
  },
  {
   "cell_type": "code",
   "execution_count": 29,
   "id": "ba389bf9",
   "metadata": {},
   "outputs": [],
   "source": [
    "#tentando criar tudo junto\n",
    "\n",
    "def cria_conta(numero, titular, saldo, limite):\n",
    "    conta = {\"numero\": numero, \"titular\": titular, \"saldo\": saldo, \"limite\": limite}\n",
    "    return conta\n",
    "\n",
    "def deposita(conta, valor):\n",
    "    conta[\"saldo\"] += valor\n",
    "\n",
    "def saca(conta, valor):\n",
    "    conta[\"saldo\"] -= valor\n",
    "\n",
    "def extrato(conta):\n",
    "    print(\"Saldo {}\".format(conta[\"saldo\"]))"
   ]
  },
  {
   "cell_type": "code",
   "execution_count": 30,
   "id": "dc6ed6e4",
   "metadata": {},
   "outputs": [
    {
     "name": "stdout",
     "output_type": "stream",
     "text": [
      "Saldo 355.0\n"
     ]
    }
   ],
   "source": [
    "conta = cria_conta(123, \"Nico\", 55.0, 1000.0)\n",
    "deposita(conta, 300.0)\n",
    "extrato(conta)"
   ]
  },
  {
   "cell_type": "code",
   "execution_count": null,
   "id": "a85f1cb7",
   "metadata": {},
   "outputs": [],
   "source": [
    "#deu certo também!"
   ]
  }
 ],
 "metadata": {
  "kernelspec": {
   "display_name": "Python 3 (ipykernel)",
   "language": "python",
   "name": "python3"
  },
  "language_info": {
   "codemirror_mode": {
    "name": "ipython",
    "version": 3
   },
   "file_extension": ".py",
   "mimetype": "text/x-python",
   "name": "python",
   "nbconvert_exporter": "python",
   "pygments_lexer": "ipython3",
   "version": "3.9.12"
  }
 },
 "nbformat": 4,
 "nbformat_minor": 5
}
