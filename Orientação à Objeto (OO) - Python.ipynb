{
 "cells": [
  {
   "cell_type": "markdown",
   "id": "c2d402fd",
   "metadata": {},
   "source": [
    "Orientação à Objeto (OO)\n",
    "\n",
    "Classe --> receita (define características e modo de preparo)\n",
    "Objeto ---> bolo\n",
    "\n",
    "Dados e métodos em uma só estrutura :D"
   ]
  },
  {
   "cell_type": "code",
   "execution_count": 1,
   "id": "e2e97aed",
   "metadata": {},
   "outputs": [],
   "source": [
    "class Conta: #iniciando com letra maiúscula\n",
    "    pass #bloco vazio, sem características (códigos) ainda"
   ]
  },
  {
   "cell_type": "code",
   "execution_count": 5,
   "id": "affbba35",
   "metadata": {},
   "outputs": [
    {
     "data": {
      "text/plain": [
       "<__main__.Conta at 0x220d4778f10>"
      ]
     },
     "execution_count": 5,
     "metadata": {},
     "output_type": "execute_result"
    }
   ],
   "source": [
    "Conta () #representa o endereço na memória onde ele foi criado (receita na fábrica de bolo)"
   ]
  },
  {
   "cell_type": "code",
   "execution_count": 6,
   "id": "8ddc54dd",
   "metadata": {},
   "outputs": [],
   "source": [
    "conta = Conta () #variavel de referência, para que saiba onde a Classe foi criada --> chamando como se fosse uma função"
   ]
  },
  {
   "cell_type": "code",
   "execution_count": 7,
   "id": "17acab24",
   "metadata": {},
   "outputs": [
    {
     "data": {
      "text/plain": [
       "<__main__.Conta at 0x220d34417c0>"
      ]
     },
     "execution_count": 7,
     "metadata": {},
     "output_type": "execute_result"
    }
   ],
   "source": [
    "conta #endereço diferentes - várias Classes"
   ]
  },
  {
   "cell_type": "code",
   "execution_count": 20,
   "id": "1d1e5d1d",
   "metadata": {},
   "outputs": [],
   "source": [
    "#retornando... vamos definir atributos dessa classe\n",
    "\n",
    "class Conta: \n",
    "    def __init__ (self, numero, titular, saldo, limite): #método construtor e definição de parâmetros\n",
    "        print(\"Construindo objeto...{}\".format(self))\n",
    "        self.numero = numero  #acessando o objeto e colocando o atributo \"numero\"\n",
    "        self.titular = titular\n",
    "        self.saldo = numero\n",
    "        self.limite = limite"
   ]
  },
  {
   "cell_type": "code",
   "execution_count": 22,
   "id": "625ba72e",
   "metadata": {},
   "outputs": [
    {
     "name": "stdout",
     "output_type": "stream",
     "text": [
      "Construindo objeto...<__main__.Conta object at 0x00000220D4717040>\n"
     ]
    }
   ],
   "source": [
    "conta = Conta (123, \"Nico\", 55.0, 1000.0) #passando parâmetros"
   ]
  },
  {
   "cell_type": "code",
   "execution_count": null,
   "id": "dcbbca45",
   "metadata": {},
   "outputs": [],
   "source": [
    "#criando conta2"
   ]
  }
 ],
 "metadata": {
  "kernelspec": {
   "display_name": "Python 3 (ipykernel)",
   "language": "python",
   "name": "python3"
  },
  "language_info": {
   "codemirror_mode": {
    "name": "ipython",
    "version": 3
   },
   "file_extension": ".py",
   "mimetype": "text/x-python",
   "name": "python",
   "nbconvert_exporter": "python",
   "pygments_lexer": "ipython3",
   "version": "3.9.12"
  }
 },
 "nbformat": 4,
 "nbformat_minor": 5
}
